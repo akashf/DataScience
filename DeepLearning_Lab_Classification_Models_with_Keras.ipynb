{
  "nbformat": 4,
  "nbformat_minor": 0,
  "metadata": {
    "colab": {
      "name": "DeepLearning_Lab_Classification_Models_with_Keras.ipynb",
      "provenance": [],
      "collapsed_sections": [],
      "authorship_tag": "ABX9TyOhJ4HUE5layhW3nY7QTWpL",
      "include_colab_link": true
    },
    "kernelspec": {
      "name": "python3",
      "display_name": "Python 3"
    }
  },
  "cells": [
    {
      "cell_type": "markdown",
      "metadata": {
        "id": "view-in-github",
        "colab_type": "text"
      },
      "source": [
        "<a href=\"https://colab.research.google.com/github/akashf/DataScience/blob/master/DeepLearning_Lab_Classification_Models_with_Keras.ipynb\" target=\"_parent\"><img src=\"https://colab.research.google.com/assets/colab-badge.svg\" alt=\"Open In Colab\"/></a>"
      ]
    },
    {
      "cell_type": "markdown",
      "metadata": {
        "id": "bAqLg-5meXyG",
        "colab_type": "text"
      },
      "source": [
        "\n",
        "The <strong>MNIST database</strong>, short for Modified National Institute of Standards and Technology database, is a large database of handwritten digits that is commonly used for training various image processing systems. The database is also widely used for training and testing in the field of machine learning.\n",
        "    \n",
        "The MNIST database contains 60,000 training images and 10,000 testing images of digits written by high school students and employees of the United States Census Bureau.\n",
        "\n",
        "Also, this way, will get to compare how conventional neural networks compare to convolutional neural networks, that we will build in the next module."
      ]
    },
    {
      "cell_type": "markdown",
      "metadata": {
        "id": "wJ6jgh2ye_Hy",
        "colab_type": "text"
      },
      "source": [
        "## Import Keras and Packages\n",
        "\n",
        "Let's start by importing Keras and some of its modules."
      ]
    },
    {
      "cell_type": "code",
      "metadata": {
        "id": "9RBQmgzUcaW6",
        "colab_type": "code",
        "colab": {}
      },
      "source": [
        "import keras\n",
        "\n",
        "from keras.models import Sequential\n",
        "from keras.layers import Dense\n",
        "from keras.utils import to_categorical"
      ],
      "execution_count": 0,
      "outputs": []
    },
    {
      "cell_type": "markdown",
      "metadata": {
        "id": "7XcHQQsKgzpZ",
        "colab_type": "text"
      },
      "source": [
        "Since we are dealing we images, let's also import the Matplotlib scripting layer in order to view the images."
      ]
    },
    {
      "cell_type": "code",
      "metadata": {
        "id": "doKEbLkngKyh",
        "colab_type": "code",
        "colab": {}
      },
      "source": [
        "import matplotlib.pyplot as plt"
      ],
      "execution_count": 0,
      "outputs": []
    },
    {
      "cell_type": "markdown",
      "metadata": {
        "id": "KtDbtv3lhhsb",
        "colab_type": "text"
      },
      "source": [
        "The Keras library conveniently includes the MNIST dataset as part of its API. You can check other datasets within the Keras library [here](https://keras.io/datasets/). \n",
        "\n",
        "So, let's load the MNIST dataset from the Keras library. The dataset is readily divided into a training set and a test set."
      ]
    },
    {
      "cell_type": "code",
      "metadata": {
        "id": "6mMW0wmghCUp",
        "colab_type": "code",
        "colab": {}
      },
      "source": [
        "from keras.datasets import mnist\n",
        "#Read the data\n",
        "(X_train,y_train), (X_test,y_test) = mnist.load_data()"
      ],
      "execution_count": 0,
      "outputs": []
    },
    {
      "cell_type": "markdown",
      "metadata": {
        "id": "jHrNYgY-moQ-",
        "colab_type": "text"
      },
      "source": [
        "Let's confirm the number of images in each set. According to the dataset's documentation, we should have 60000 images in X_train and 10000 images in the X_test."
      ]
    },
    {
      "cell_type": "code",
      "metadata": {
        "id": "09bQJGU1knMu",
        "colab_type": "code",
        "colab": {
          "base_uri": "https://localhost:8080/",
          "height": 34
        },
        "outputId": "47277d83-d452-4eb5-8726-9238e8e00aeb"
      },
      "source": [
        "X_train.shape"
      ],
      "execution_count": 57,
      "outputs": [
        {
          "output_type": "execute_result",
          "data": {
            "text/plain": [
              "(60000, 28, 28)"
            ]
          },
          "metadata": {
            "tags": []
          },
          "execution_count": 57
        }
      ]
    },
    {
      "cell_type": "markdown",
      "metadata": {
        "id": "K1MypdCLm2GG",
        "colab_type": "text"
      },
      "source": [
        "The first number in the output tuple is the number of images, and the other two numbers are the size of the images in datset. So, each image is 28 pixels by 28 pixels.\n",
        "<br>\n",
        "Let's visualize the first image in the training set using Matplotlib's scripting layer."
      ]
    },
    {
      "cell_type": "code",
      "metadata": {
        "id": "PAsZFZt0mrPu",
        "colab_type": "code",
        "colab": {
          "base_uri": "https://localhost:8080/",
          "height": 282
        },
        "outputId": "f14bff50-29b2-4006-dcc7-4472eda5429a"
      },
      "source": [
        "\n",
        "plt.imshow(X_train[0])"
      ],
      "execution_count": 58,
      "outputs": [
        {
          "output_type": "execute_result",
          "data": {
            "text/plain": [
              "<matplotlib.image.AxesImage at 0x7fbc8935dda0>"
            ]
          },
          "metadata": {
            "tags": []
          },
          "execution_count": 58
        },
        {
          "output_type": "display_data",
          "data": {
            "image/png": "[encoded data removed]",
            "text/plain": [
              "<Figure size 432x288 with 1 Axes>"
            ]
          },
          "metadata": {
            "tags": [],
            "needs_background": "light"
          }
        }
      ]
    },
    {
      "cell_type": "markdown",
      "metadata": {
        "id": "b26rnWjAnQxn",
        "colab_type": "text"
      },
      "source": [
        "With conventional neural networks, we cannot feed in the image as input as is. So we need to flatten the images into one-dimensional vectors, each of size 1 x (28 x 28) = 1 x 784."
      ]
    },
    {
      "cell_type": "code",
      "metadata": {
        "id": "C8C4ycBonHRM",
        "colab_type": "code",
        "colab": {}
      },
      "source": [
        "#flating images into one dimension vector\n",
        "num_pixels = X_train.shape[1] * X_train.shape[2]\n",
        "\n",
        "X_train = X_train.reshape(X_train.shape[0], num_pixels).astype('float32')\n",
        "X_test = X_test.reshape(X_test.shape[0], num_pixels).astype('float32')"
      ],
      "execution_count": 0,
      "outputs": []
    },
    {
      "cell_type": "markdown",
      "metadata": {
        "id": "1VddJa1Nvz8k",
        "colab_type": "text"
      },
      "source": [
        "Since pixel values can range from 0 to 255, let's normalize the vectors to be between 0 and 1."
      ]
    },
    {
      "cell_type": "code",
      "metadata": {
        "id": "QGl1jGY9oCih",
        "colab_type": "code",
        "colab": {}
      },
      "source": [
        "#normailizing code wtih respect to pixels \n",
        "X_train = X_train/255\n",
        "X_test = X_test/255"
      ],
      "execution_count": 0,
      "outputs": []
    },
    {
      "cell_type": "markdown",
      "metadata": {
        "id": "ysDG_rh2wKhB",
        "colab_type": "text"
      },
      "source": [
        "Finally, before we start building our model, remember that for classification we need to divide our target variable into categories. We use the to_categorical function from the Keras Utilities package."
      ]
    },
    {
      "cell_type": "code",
      "metadata": {
        "id": "2r4ruzYbwAZ1",
        "colab_type": "code",
        "colab": {
          "base_uri": "https://localhost:8080/",
          "height": 34
        },
        "outputId": "15809065-1da3-4ccd-b695-dd6be48ac922"
      },
      "source": [
        "#one hot encode outputs\n",
        "y_train = to_categorical(y_train)\n",
        "y_test = to_categorical(y_test)\n",
        "\n",
        "num_classes = y_test.shape[1]\n",
        "print(num_classes)"
      ],
      "execution_count": 61,
      "outputs": [
        {
          "output_type": "stream",
          "text": [
            "10\n"
          ],
          "name": "stdout"
        }
      ]
    },
    {
      "cell_type": "markdown",
      "metadata": {
        "id": "7X8c5M4ZxsSg",
        "colab_type": "text"
      },
      "source": [
        "## Build a Neural Network"
      ]
    },
    {
      "cell_type": "code",
      "metadata": {
        "id": "xBDeofHdxj_M",
        "colab_type": "code",
        "colab": {}
      },
      "source": [
        "#defing a classification model\n",
        "def classification_model():\n",
        "  #create model\n",
        "  model = Sequential()\n",
        "  model.add(Dense(num_pixels, activation='relu', input_shape=(num_pixels,)))\n",
        "  model.add(Dense(100,activation='relu'))\n",
        "  model.add(Dense(num_classes,activation='softmax'))\n",
        "\n",
        "  #compile model\n",
        "  model.compile(optimizer='adam',loss='categorical_crossentropy',metrics=['accuracy'])\n",
        "  return model"
      ],
      "execution_count": 0,
      "outputs": []
    },
    {
      "cell_type": "markdown",
      "metadata": {
        "id": "nf7rcTrdzijX",
        "colab_type": "text"
      },
      "source": [
        "Train and Test the Network"
      ]
    },
    {
      "cell_type": "code",
      "metadata": {
        "id": "MAeNwTKky43u",
        "colab_type": "code",
        "colab": {
          "base_uri": "https://localhost:8080/",
          "height": 394
        },
        "outputId": "2ad63b46-a3f3-4634-8eab-491fa2cf13a8"
      },
      "source": [
        "# build the model\n",
        "model = classification_model()\n",
        "\n",
        "# fit the model\n",
        "model.fit(X_train, y_train, validation_data=(X_test, y_test), epochs=10, verbose=2)\n",
        "\n",
        "# evaluate the model\n",
        "scores = model.evaluate(X_test, y_test, verbose=0)"
      ],
      "execution_count": 63,
      "outputs": [
        {
          "output_type": "stream",
          "text": [
            "Train on 60000 samples, validate on 10000 samples\n",
            "Epoch 1/10\n",
            " - 18s - loss: 0.1837 - accuracy: 0.9439 - val_loss: 0.0859 - val_accuracy: 0.9742\n",
            "Epoch 2/10\n",
            " - 18s - loss: 0.0794 - accuracy: 0.9746 - val_loss: 0.0734 - val_accuracy: 0.9774\n",
            "Epoch 3/10\n",
            " - 18s - loss: 0.0530 - accuracy: 0.9829 - val_loss: 0.0828 - val_accuracy: 0.9764\n",
            "Epoch 4/10\n",
            " - 18s - loss: 0.0406 - accuracy: 0.9873 - val_loss: 0.0863 - val_accuracy: 0.9753\n",
            "Epoch 5/10\n",
            " - 18s - loss: 0.0316 - accuracy: 0.9900 - val_loss: 0.0984 - val_accuracy: 0.9726\n",
            "Epoch 6/10\n",
            " - 18s - loss: 0.0274 - accuracy: 0.9911 - val_loss: 0.0769 - val_accuracy: 0.9809\n",
            "Epoch 7/10\n",
            " - 18s - loss: 0.0208 - accuracy: 0.9930 - val_loss: 0.0918 - val_accuracy: 0.9771\n",
            "Epoch 8/10\n",
            " - 18s - loss: 0.0197 - accuracy: 0.9937 - val_loss: 0.0945 - val_accuracy: 0.9786\n",
            "Epoch 9/10\n",
            " - 18s - loss: 0.0187 - accuracy: 0.9940 - val_loss: 0.0910 - val_accuracy: 0.9803\n",
            "Epoch 10/10\n",
            " - 18s - loss: 0.0144 - accuracy: 0.9956 - val_loss: 0.1076 - val_accuracy: 0.9784\n"
          ],
          "name": "stdout"
        }
      ]
    },
    {
      "cell_type": "markdown",
      "metadata": {
        "id": "4SuQ5m2M2AgW",
        "colab_type": "text"
      },
      "source": [
        "Let's print accuracy and the correspongi error "
      ]
    },
    {
      "cell_type": "code",
      "metadata": {
        "id": "YA1TGId10KE5",
        "colab_type": "code",
        "colab": {
          "base_uri": "https://localhost:8080/",
          "height": 51
        },
        "outputId": "4ce41970-d4ca-4a3a-b5b4-6efbffd9c662"
      },
      "source": [
        "print (\"Accurach is : [] \\n Error : {}\".format(scores[1],1-scores[1]))"
      ],
      "execution_count": 64,
      "outputs": [
        {
          "output_type": "stream",
          "text": [
            "Accurach is : [] \n",
            " Error : 0.9783999919891357\n"
          ],
          "name": "stdout"
        }
      ]
    },
    {
      "cell_type": "code",
      "metadata": {
        "id": "hbb19SuI2TCI",
        "colab_type": "code",
        "colab": {}
      },
      "source": [
        "model.save('classification_model.h5')"
      ],
      "execution_count": 0,
      "outputs": []
    },
    {
      "cell_type": "markdown",
      "metadata": {
        "id": "0DU57nYM2ZRa",
        "colab_type": "text"
      },
      "source": [
        "Sometimes, you cannot afford to retrain your model everytime you want to use it, especially if you are limited on computational resources and training your model can take a long time. Therefore, with the Keras library, you can save your model after training. To do that, we use the save method."
      ]
    },
    {
      "cell_type": "markdown",
      "metadata": {
        "id": "FQf_M2_C2frW",
        "colab_type": "text"
      },
      "source": [
        "#### Since our model contains\n",
        " multidimensional arrays of data, then models are usually saved as .h5 files.\n",
        " When you are ready to use your model again, you use the load_model function from <strong>keras.models</strong>."
      ]
    },
    {
      "cell_type": "code",
      "metadata": {
        "id": "eY4VMGsG2Zsc",
        "colab_type": "code",
        "colab": {}
      },
      "source": [
        "from keras.models import load_model"
      ],
      "execution_count": 0,
      "outputs": []
    },
    {
      "cell_type": "code",
      "metadata": {
        "id": "SswVsQtM2pGb",
        "colab_type": "code",
        "colab": {}
      },
      "source": [
        "pretrained_model = load_model('classification_model.h5')"
      ],
      "execution_count": 0,
      "outputs": []
    },
    {
      "cell_type": "code",
      "metadata": {
        "id": "aeAqgtjw2q2D",
        "colab_type": "code",
        "colab": {}
      },
      "source": [
        ""
      ],
      "execution_count": 0,
      "outputs": []
    }
  ]
}