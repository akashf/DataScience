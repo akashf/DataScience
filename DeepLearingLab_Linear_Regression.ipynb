{
  "nbformat": 4,
  "nbformat_minor": 0,
  "metadata": {
    "colab": {
      "name": "DeepLearingLab_Linear_Regression.ipynb",
      "provenance": [],
      "collapsed_sections": [],
      "authorship_tag": "ABX9TyOBwHr3Yz1Z7TThPn6MVzCl",
      "include_colab_link": true
    },
    "kernelspec": {
      "name": "python3",
      "display_name": "Python 3"
    }
  },
  "cells": [
    {
      "cell_type": "markdown",
      "metadata": {
        "id": "view-in-github",
        "colab_type": "text"
      },
      "source": [
        "<a href=\"https://colab.research.google.com/github/akashf/DataScience/blob/master/DeepLearingLab_Linear_Regression.ipynb\" target=\"_parent\"><img src=\"https://colab.research.google.com/assets/colab-badge.svg\" alt=\"Open In Colab\"/></a>"
      ]
    },
    {
      "cell_type": "markdown",
      "metadata": {
        "id": "vo3HSHumS7PB",
        "colab_type": "text"
      },
      "source": [
        "<h1 align=center><font size = 5>Regression Models with Keras</font></h1>"
      ]
    },
    {
      "cell_type": "markdown",
      "metadata": {
        "id": "msCOu4ZFSt29",
        "colab_type": "text"
      },
      "source": [
        "Keras is a high-level API for building deep learning models. It has gained favor for its ease of use and syntactic simplicity facilitating fast development. As you will see in this lab and the other labs in this course, building a very complex deep learning network can be achieved with Keras with only few lines of code."
      ]
    },
    {
      "cell_type": "markdown",
      "metadata": {
        "id": "LAHw0ODETl2_",
        "colab_type": "text"
      },
      "source": [
        "<h4 align=\"center\">Downloading the data set</h4>"
      ]
    },
    {
      "cell_type": "code",
      "metadata": {
        "id": "ZgTNd2HhNp4t",
        "colab_type": "code",
        "colab": {}
      },
      "source": [
        "import pandas as pd\n",
        "import numpy as np"
      ],
      "execution_count": 0,
      "outputs": []
    },
    {
      "cell_type": "markdown",
      "metadata": {
        "id": "apRtscs4Azua",
        "colab_type": "text"
      },
      "source": [
        "We will be playing around with the same dataset that we used in the videos.\n",
        "\n",
        "<strong>The dataset is about the compressive strength of different samples of concrete based on the volumes of the different ingredients that were used to make them. Ingredients include:</strong>\n",
        "\n",
        "<strong>1. Cement</strong>\n",
        "\n",
        "<strong>2. Blast Furnace Slag</strong>\n",
        "\n",
        "<strong>3. Fly Ash</strong>\n",
        "\n",
        "<strong>4. Water</strong>\n",
        "\n",
        "<strong>5. Superplasticizer</strong>\n",
        "\n",
        "<strong>6. Coarse Aggregate</strong>\n",
        "\n",
        "<strong>7. Fine Aggregate</strong>"
      ]
    },
    {
      "cell_type": "code",
      "metadata": {
        "id": "za8tCkSwSulw",
        "colab_type": "code",
        "colab": {
          "base_uri": "https://localhost:8080/",
          "height": 204
        },
        "outputId": "f7e92970-b66b-4842-b8db-e17167b4d1b4"
      },
      "source": [
        "concrete_data = pd.read_csv('https://s3-api.us-geo.objectstorage.softlayer.net/cf-courses-data/CognitiveClass/DL0101EN/labs/data/concrete_data.csv')\n",
        "concrete_data.head()"
      ],
      "execution_count": 3,
      "outputs": [
        {
          "output_type": "execute_result",
          "data": {
            "text/html": [
              "<div>\n",
              "<style scoped>\n",
              "    .dataframe tbody tr th:only-of-type {\n",
              "        vertical-align: middle;\n",
              "    }\n",
              "\n",
              "    .dataframe tbody tr th {\n",
              "        vertical-align: top;\n",
              "    }\n",
              "\n",
              "    .dataframe thead th {\n",
              "        text-align: right;\n",
              "    }\n",
              "</style>\n",
              "<table border=\"1\" class=\"dataframe\">\n",
              "  <thead>\n",
              "    <tr style=\"text-align: right;\">\n",
              "      <th></th>\n",
              "      <th>Cement</th>\n",
              "      <th>Blast Furnace Slag</th>\n",
              "      <th>Fly Ash</th>\n",
              "      <th>Water</th>\n",
              "      <th>Superplasticizer</th>\n",
              "      <th>Coarse Aggregate</th>\n",
              "      <th>Fine Aggregate</th>\n",
              "      <th>Age</th>\n",
              "      <th>Strength</th>\n",
              "    </tr>\n",
              "  </thead>\n",
              "  <tbody>\n",
              "    <tr>\n",
              "      <th>0</th>\n",
              "      <td>540.0</td>\n",
              "      <td>0.0</td>\n",
              "      <td>0.0</td>\n",
              "      <td>162.0</td>\n",
              "      <td>2.5</td>\n",
              "      <td>1040.0</td>\n",
              "      <td>676.0</td>\n",
              "      <td>28</td>\n",
              "      <td>79.99</td>\n",
              "    </tr>\n",
              "    <tr>\n",
              "      <th>1</th>\n",
              "      <td>540.0</td>\n",
              "      <td>0.0</td>\n",
              "      <td>0.0</td>\n",
              "      <td>162.0</td>\n",
              "      <td>2.5</td>\n",
              "      <td>1055.0</td>\n",
              "      <td>676.0</td>\n",
              "      <td>28</td>\n",
              "      <td>61.89</td>\n",
              "    </tr>\n",
              "    <tr>\n",
              "      <th>2</th>\n",
              "      <td>332.5</td>\n",
              "      <td>142.5</td>\n",
              "      <td>0.0</td>\n",
              "      <td>228.0</td>\n",
              "      <td>0.0</td>\n",
              "      <td>932.0</td>\n",
              "      <td>594.0</td>\n",
              "      <td>270</td>\n",
              "      <td>40.27</td>\n",
              "    </tr>\n",
              "    <tr>\n",
              "      <th>3</th>\n",
              "      <td>332.5</td>\n",
              "      <td>142.5</td>\n",
              "      <td>0.0</td>\n",
              "      <td>228.0</td>\n",
              "      <td>0.0</td>\n",
              "      <td>932.0</td>\n",
              "      <td>594.0</td>\n",
              "      <td>365</td>\n",
              "      <td>41.05</td>\n",
              "    </tr>\n",
              "    <tr>\n",
              "      <th>4</th>\n",
              "      <td>198.6</td>\n",
              "      <td>132.4</td>\n",
              "      <td>0.0</td>\n",
              "      <td>192.0</td>\n",
              "      <td>0.0</td>\n",
              "      <td>978.4</td>\n",
              "      <td>825.5</td>\n",
              "      <td>360</td>\n",
              "      <td>44.30</td>\n",
              "    </tr>\n",
              "  </tbody>\n",
              "</table>\n",
              "</div>"
            ],
            "text/plain": [
              "   Cement  Blast Furnace Slag  Fly Ash  ...  Fine Aggregate  Age  Strength\n",
              "0   540.0                 0.0      0.0  ...           676.0   28     79.99\n",
              "1   540.0                 0.0      0.0  ...           676.0   28     61.89\n",
              "2   332.5               142.5      0.0  ...           594.0  270     40.27\n",
              "3   332.5               142.5      0.0  ...           594.0  365     41.05\n",
              "4   198.6               132.4      0.0  ...           825.5  360     44.30\n",
              "\n",
              "[5 rows x 9 columns]"
            ]
          },
          "metadata": {
            "tags": []
          },
          "execution_count": 3
        }
      ]
    },
    {
      "cell_type": "markdown",
      "metadata": {
        "id": "OCmkhLXVCgM0",
        "colab_type": "text"
      },
      "source": [
        "So the first concrete sample has 540 cubic meter of cement, 0 cubic meter of blast furnace slag, 0 cubic meter of fly ash, 162 cubic meter of water, 2.5 cubic meter of superplaticizer, 1040 cubic meter of coarse aggregate, 676 cubic meter of fine aggregate. Such a concrete mix which is 28 days old, has a compressive strength of 79.99 MPa. "
      ]
    },
    {
      "cell_type": "markdown",
      "metadata": {
        "id": "NwDJXCrKDEWM",
        "colab_type": "text"
      },
      "source": [
        "#### Let's check how many data points we have."
      ]
    },
    {
      "cell_type": "code",
      "metadata": {
        "id": "yzVKRpJTB20a",
        "colab_type": "code",
        "colab": {
          "base_uri": "https://localhost:8080/",
          "height": 34
        },
        "outputId": "6b6cd174-47bd-488e-f025-ea84667094b1"
      },
      "source": [
        "concrete_data.shape"
      ],
      "execution_count": 5,
      "outputs": [
        {
          "output_type": "execute_result",
          "data": {
            "text/plain": [
              "(1030, 9)"
            ]
          },
          "metadata": {
            "tags": []
          },
          "execution_count": 5
        }
      ]
    },
    {
      "cell_type": "code",
      "metadata": {
        "id": "L2CGorJjDqhG",
        "colab_type": "code",
        "colab": {
          "base_uri": "https://localhost:8080/",
          "height": 297
        },
        "outputId": "a8036272-d53f-426d-debc-71ffa45970aa"
      },
      "source": [
        "concrete_data.describe()"
      ],
      "execution_count": 7,
      "outputs": [
        {
          "output_type": "execute_result",
          "data": {
            "text/html": [
              "<div>\n",
              "<style scoped>\n",
              "    .dataframe tbody tr th:only-of-type {\n",
              "        vertical-align: middle;\n",
              "    }\n",
              "\n",
              "    .dataframe tbody tr th {\n",
              "        vertical-align: top;\n",
              "    }\n",
              "\n",
              "    .dataframe thead th {\n",
              "        text-align: right;\n",
              "    }\n",
              "</style>\n",
              "<table border=\"1\" class=\"dataframe\">\n",
              "  <thead>\n",
              "    <tr style=\"text-align: right;\">\n",
              "      <th></th>\n",
              "      <th>Cement</th>\n",
              "      <th>Blast Furnace Slag</th>\n",
              "      <th>Fly Ash</th>\n",
              "      <th>Water</th>\n",
              "      <th>Superplasticizer</th>\n",
              "      <th>Coarse Aggregate</th>\n",
              "      <th>Fine Aggregate</th>\n",
              "      <th>Age</th>\n",
              "      <th>Strength</th>\n",
              "    </tr>\n",
              "  </thead>\n",
              "  <tbody>\n",
              "    <tr>\n",
              "      <th>count</th>\n",
              "      <td>1030.000000</td>\n",
              "      <td>1030.000000</td>\n",
              "      <td>1030.000000</td>\n",
              "      <td>1030.000000</td>\n",
              "      <td>1030.000000</td>\n",
              "      <td>1030.000000</td>\n",
              "      <td>1030.000000</td>\n",
              "      <td>1030.000000</td>\n",
              "      <td>1030.000000</td>\n",
              "    </tr>\n",
              "    <tr>\n",
              "      <th>mean</th>\n",
              "      <td>281.167864</td>\n",
              "      <td>73.895825</td>\n",
              "      <td>54.188350</td>\n",
              "      <td>181.567282</td>\n",
              "      <td>6.204660</td>\n",
              "      <td>972.918932</td>\n",
              "      <td>773.580485</td>\n",
              "      <td>45.662136</td>\n",
              "      <td>35.817961</td>\n",
              "    </tr>\n",
              "    <tr>\n",
              "      <th>std</th>\n",
              "      <td>104.506364</td>\n",
              "      <td>86.279342</td>\n",
              "      <td>63.997004</td>\n",
              "      <td>21.354219</td>\n",
              "      <td>5.973841</td>\n",
              "      <td>77.753954</td>\n",
              "      <td>80.175980</td>\n",
              "      <td>63.169912</td>\n",
              "      <td>16.705742</td>\n",
              "    </tr>\n",
              "    <tr>\n",
              "      <th>min</th>\n",
              "      <td>102.000000</td>\n",
              "      <td>0.000000</td>\n",
              "      <td>0.000000</td>\n",
              "      <td>121.800000</td>\n",
              "      <td>0.000000</td>\n",
              "      <td>801.000000</td>\n",
              "      <td>594.000000</td>\n",
              "      <td>1.000000</td>\n",
              "      <td>2.330000</td>\n",
              "    </tr>\n",
              "    <tr>\n",
              "      <th>25%</th>\n",
              "      <td>192.375000</td>\n",
              "      <td>0.000000</td>\n",
              "      <td>0.000000</td>\n",
              "      <td>164.900000</td>\n",
              "      <td>0.000000</td>\n",
              "      <td>932.000000</td>\n",
              "      <td>730.950000</td>\n",
              "      <td>7.000000</td>\n",
              "      <td>23.710000</td>\n",
              "    </tr>\n",
              "    <tr>\n",
              "      <th>50%</th>\n",
              "      <td>272.900000</td>\n",
              "      <td>22.000000</td>\n",
              "      <td>0.000000</td>\n",
              "      <td>185.000000</td>\n",
              "      <td>6.400000</td>\n",
              "      <td>968.000000</td>\n",
              "      <td>779.500000</td>\n",
              "      <td>28.000000</td>\n",
              "      <td>34.445000</td>\n",
              "    </tr>\n",
              "    <tr>\n",
              "      <th>75%</th>\n",
              "      <td>350.000000</td>\n",
              "      <td>142.950000</td>\n",
              "      <td>118.300000</td>\n",
              "      <td>192.000000</td>\n",
              "      <td>10.200000</td>\n",
              "      <td>1029.400000</td>\n",
              "      <td>824.000000</td>\n",
              "      <td>56.000000</td>\n",
              "      <td>46.135000</td>\n",
              "    </tr>\n",
              "    <tr>\n",
              "      <th>max</th>\n",
              "      <td>540.000000</td>\n",
              "      <td>359.400000</td>\n",
              "      <td>200.100000</td>\n",
              "      <td>247.000000</td>\n",
              "      <td>32.200000</td>\n",
              "      <td>1145.000000</td>\n",
              "      <td>992.600000</td>\n",
              "      <td>365.000000</td>\n",
              "      <td>82.600000</td>\n",
              "    </tr>\n",
              "  </tbody>\n",
              "</table>\n",
              "</div>"
            ],
            "text/plain": [
              "            Cement  Blast Furnace Slag  ...          Age     Strength\n",
              "count  1030.000000         1030.000000  ...  1030.000000  1030.000000\n",
              "mean    281.167864           73.895825  ...    45.662136    35.817961\n",
              "std     104.506364           86.279342  ...    63.169912    16.705742\n",
              "min     102.000000            0.000000  ...     1.000000     2.330000\n",
              "25%     192.375000            0.000000  ...     7.000000    23.710000\n",
              "50%     272.900000           22.000000  ...    28.000000    34.445000\n",
              "75%     350.000000          142.950000  ...    56.000000    46.135000\n",
              "max     540.000000          359.400000  ...   365.000000    82.600000\n",
              "\n",
              "[8 rows x 9 columns]"
            ]
          },
          "metadata": {
            "tags": []
          },
          "execution_count": 7
        }
      ]
    },
    {
      "cell_type": "code",
      "metadata": {
        "id": "TgiFoO_BELd3",
        "colab_type": "code",
        "colab": {
          "base_uri": "https://localhost:8080/",
          "height": 187
        },
        "outputId": "d7cab87f-e47f-47aa-8f55-f03da0acf6ad"
      },
      "source": [
        "concrete_data.isnull().sum()"
      ],
      "execution_count": 8,
      "outputs": [
        {
          "output_type": "execute_result",
          "data": {
            "text/plain": [
              "Cement                0\n",
              "Blast Furnace Slag    0\n",
              "Fly Ash               0\n",
              "Water                 0\n",
              "Superplasticizer      0\n",
              "Coarse Aggregate      0\n",
              "Fine Aggregate        0\n",
              "Age                   0\n",
              "Strength              0\n",
              "dtype: int64"
            ]
          },
          "metadata": {
            "tags": []
          },
          "execution_count": 8
        }
      ]
    },
    {
      "cell_type": "markdown",
      "metadata": {
        "id": "XnWSoroCNei8",
        "colab_type": "text"
      },
      "source": [
        "#### Split data into predictors and target\n",
        "The target variable in this problem is the concrete sample strength. Therefore, our predictors will be all the other columns."
      ]
    },
    {
      "cell_type": "code",
      "metadata": {
        "id": "HluFhhA-NEql",
        "colab_type": "code",
        "colab": {}
      },
      "source": [
        "concrete_data_columns = concrete_data.columns\n",
        "predictors = concrete_data[concrete_data_columns[concrete_data_columns != 'Strength']]\n",
        "target = concrete_data['Strength']"
      ],
      "execution_count": 0,
      "outputs": []
    },
    {
      "cell_type": "code",
      "metadata": {
        "id": "JHSgvKP9O0RL",
        "colab_type": "code",
        "colab": {
          "base_uri": "https://localhost:8080/",
          "height": 204
        },
        "outputId": "0aea0277-c70e-462d-fa5b-9a2ccc67e5d0"
      },
      "source": [
        "predictors.head()"
      ],
      "execution_count": 11,
      "outputs": [
        {
          "output_type": "execute_result",
          "data": {
            "text/html": [
              "<div>\n",
              "<style scoped>\n",
              "    .dataframe tbody tr th:only-of-type {\n",
              "        vertical-align: middle;\n",
              "    }\n",
              "\n",
              "    .dataframe tbody tr th {\n",
              "        vertical-align: top;\n",
              "    }\n",
              "\n",
              "    .dataframe thead th {\n",
              "        text-align: right;\n",
              "    }\n",
              "</style>\n",
              "<table border=\"1\" class=\"dataframe\">\n",
              "  <thead>\n",
              "    <tr style=\"text-align: right;\">\n",
              "      <th></th>\n",
              "      <th>Cement</th>\n",
              "      <th>Blast Furnace Slag</th>\n",
              "      <th>Fly Ash</th>\n",
              "      <th>Water</th>\n",
              "      <th>Superplasticizer</th>\n",
              "      <th>Coarse Aggregate</th>\n",
              "      <th>Fine Aggregate</th>\n",
              "      <th>Age</th>\n",
              "    </tr>\n",
              "  </thead>\n",
              "  <tbody>\n",
              "    <tr>\n",
              "      <th>0</th>\n",
              "      <td>540.0</td>\n",
              "      <td>0.0</td>\n",
              "      <td>0.0</td>\n",
              "      <td>162.0</td>\n",
              "      <td>2.5</td>\n",
              "      <td>1040.0</td>\n",
              "      <td>676.0</td>\n",
              "      <td>28</td>\n",
              "    </tr>\n",
              "    <tr>\n",
              "      <th>1</th>\n",
              "      <td>540.0</td>\n",
              "      <td>0.0</td>\n",
              "      <td>0.0</td>\n",
              "      <td>162.0</td>\n",
              "      <td>2.5</td>\n",
              "      <td>1055.0</td>\n",
              "      <td>676.0</td>\n",
              "      <td>28</td>\n",
              "    </tr>\n",
              "    <tr>\n",
              "      <th>2</th>\n",
              "      <td>332.5</td>\n",
              "      <td>142.5</td>\n",
              "      <td>0.0</td>\n",
              "      <td>228.0</td>\n",
              "      <td>0.0</td>\n",
              "      <td>932.0</td>\n",
              "      <td>594.0</td>\n",
              "      <td>270</td>\n",
              "    </tr>\n",
              "    <tr>\n",
              "      <th>3</th>\n",
              "      <td>332.5</td>\n",
              "      <td>142.5</td>\n",
              "      <td>0.0</td>\n",
              "      <td>228.0</td>\n",
              "      <td>0.0</td>\n",
              "      <td>932.0</td>\n",
              "      <td>594.0</td>\n",
              "      <td>365</td>\n",
              "    </tr>\n",
              "    <tr>\n",
              "      <th>4</th>\n",
              "      <td>198.6</td>\n",
              "      <td>132.4</td>\n",
              "      <td>0.0</td>\n",
              "      <td>192.0</td>\n",
              "      <td>0.0</td>\n",
              "      <td>978.4</td>\n",
              "      <td>825.5</td>\n",
              "      <td>360</td>\n",
              "    </tr>\n",
              "  </tbody>\n",
              "</table>\n",
              "</div>"
            ],
            "text/plain": [
              "   Cement  Blast Furnace Slag  Fly Ash  ...  Coarse Aggregate  Fine Aggregate  Age\n",
              "0   540.0                 0.0      0.0  ...            1040.0           676.0   28\n",
              "1   540.0                 0.0      0.0  ...            1055.0           676.0   28\n",
              "2   332.5               142.5      0.0  ...             932.0           594.0  270\n",
              "3   332.5               142.5      0.0  ...             932.0           594.0  365\n",
              "4   198.6               132.4      0.0  ...             978.4           825.5  360\n",
              "\n",
              "[5 rows x 8 columns]"
            ]
          },
          "metadata": {
            "tags": []
          },
          "execution_count": 11
        }
      ]
    },
    {
      "cell_type": "code",
      "metadata": {
        "id": "D_mfPTOSO8is",
        "colab_type": "code",
        "colab": {
          "base_uri": "https://localhost:8080/",
          "height": 119
        },
        "outputId": "c3df066c-9507-45dd-fed9-b82f0f9e307e"
      },
      "source": [
        "target.head()"
      ],
      "execution_count": 12,
      "outputs": [
        {
          "output_type": "execute_result",
          "data": {
            "text/plain": [
              "0    79.99\n",
              "1    61.89\n",
              "2    40.27\n",
              "3    41.05\n",
              "4    44.30\n",
              "Name: Strength, dtype: float64"
            ]
          },
          "metadata": {
            "tags": []
          },
          "execution_count": 12
        }
      ]
    },
    {
      "cell_type": "markdown",
      "metadata": {
        "id": "ZNTbsczcPMWf",
        "colab_type": "text"
      },
      "source": [
        "Finally, the last step is to normalize the data by substracting the mean and dividing by the standard deviation."
      ]
    },
    {
      "cell_type": "code",
      "metadata": {
        "id": "3VrA0eMRO_Sd",
        "colab_type": "code",
        "colab": {
          "base_uri": "https://localhost:8080/",
          "height": 204
        },
        "outputId": "5ac21545-2ee3-41df-ea83-dc09d5eb0991"
      },
      "source": [
        "predictors_norm = (predictors - predictors.mean())/predictors.std()\n",
        "predictors_norm.head()"
      ],
      "execution_count": 13,
      "outputs": [
        {
          "output_type": "execute_result",
          "data": {
            "text/html": [
              "<div>\n",
              "<style scoped>\n",
              "    .dataframe tbody tr th:only-of-type {\n",
              "        vertical-align: middle;\n",
              "    }\n",
              "\n",
              "    .dataframe tbody tr th {\n",
              "        vertical-align: top;\n",
              "    }\n",
              "\n",
              "    .dataframe thead th {\n",
              "        text-align: right;\n",
              "    }\n",
              "</style>\n",
              "<table border=\"1\" class=\"dataframe\">\n",
              "  <thead>\n",
              "    <tr style=\"text-align: right;\">\n",
              "      <th></th>\n",
              "      <th>Cement</th>\n",
              "      <th>Blast Furnace Slag</th>\n",
              "      <th>Fly Ash</th>\n",
              "      <th>Water</th>\n",
              "      <th>Superplasticizer</th>\n",
              "      <th>Coarse Aggregate</th>\n",
              "      <th>Fine Aggregate</th>\n",
              "      <th>Age</th>\n",
              "    </tr>\n",
              "  </thead>\n",
              "  <tbody>\n",
              "    <tr>\n",
              "      <th>0</th>\n",
              "      <td>2.476712</td>\n",
              "      <td>-0.856472</td>\n",
              "      <td>-0.846733</td>\n",
              "      <td>-0.916319</td>\n",
              "      <td>-0.620147</td>\n",
              "      <td>0.862735</td>\n",
              "      <td>-1.217079</td>\n",
              "      <td>-0.279597</td>\n",
              "    </tr>\n",
              "    <tr>\n",
              "      <th>1</th>\n",
              "      <td>2.476712</td>\n",
              "      <td>-0.856472</td>\n",
              "      <td>-0.846733</td>\n",
              "      <td>-0.916319</td>\n",
              "      <td>-0.620147</td>\n",
              "      <td>1.055651</td>\n",
              "      <td>-1.217079</td>\n",
              "      <td>-0.279597</td>\n",
              "    </tr>\n",
              "    <tr>\n",
              "      <th>2</th>\n",
              "      <td>0.491187</td>\n",
              "      <td>0.795140</td>\n",
              "      <td>-0.846733</td>\n",
              "      <td>2.174405</td>\n",
              "      <td>-1.038638</td>\n",
              "      <td>-0.526262</td>\n",
              "      <td>-2.239829</td>\n",
              "      <td>3.551340</td>\n",
              "    </tr>\n",
              "    <tr>\n",
              "      <th>3</th>\n",
              "      <td>0.491187</td>\n",
              "      <td>0.795140</td>\n",
              "      <td>-0.846733</td>\n",
              "      <td>2.174405</td>\n",
              "      <td>-1.038638</td>\n",
              "      <td>-0.526262</td>\n",
              "      <td>-2.239829</td>\n",
              "      <td>5.055221</td>\n",
              "    </tr>\n",
              "    <tr>\n",
              "      <th>4</th>\n",
              "      <td>-0.790075</td>\n",
              "      <td>0.678079</td>\n",
              "      <td>-0.846733</td>\n",
              "      <td>0.488555</td>\n",
              "      <td>-1.038638</td>\n",
              "      <td>0.070492</td>\n",
              "      <td>0.647569</td>\n",
              "      <td>4.976069</td>\n",
              "    </tr>\n",
              "  </tbody>\n",
              "</table>\n",
              "</div>"
            ],
            "text/plain": [
              "     Cement  Blast Furnace Slag  ...  Fine Aggregate       Age\n",
              "0  2.476712           -0.856472  ...       -1.217079 -0.279597\n",
              "1  2.476712           -0.856472  ...       -1.217079 -0.279597\n",
              "2  0.491187            0.795140  ...       -2.239829  3.551340\n",
              "3  0.491187            0.795140  ...       -2.239829  5.055221\n",
              "4 -0.790075            0.678079  ...        0.647569  4.976069\n",
              "\n",
              "[5 rows x 8 columns]"
            ]
          },
          "metadata": {
            "tags": []
          },
          "execution_count": 13
        }
      ]
    },
    {
      "cell_type": "markdown",
      "metadata": {
        "id": "ULIVZEfwTX4V",
        "colab_type": "text"
      },
      "source": [
        "Let's save the number of predictors to *n_cols* since we will need this number when building our network."
      ]
    },
    {
      "cell_type": "code",
      "metadata": {
        "id": "SO4bjRXxPrgF",
        "colab_type": "code",
        "colab": {
          "base_uri": "https://localhost:8080/",
          "height": 34
        },
        "outputId": "4f9a899a-cff7-4775-d285-e9aba4edc219"
      },
      "source": [
        "n_cols = predictors_norm.shape[1]\n",
        "n_cols"
      ],
      "execution_count": 15,
      "outputs": [
        {
          "output_type": "execute_result",
          "data": {
            "text/plain": [
              "8"
            ]
          },
          "metadata": {
            "tags": []
          },
          "execution_count": 15
        }
      ]
    },
    {
      "cell_type": "markdown",
      "metadata": {
        "id": "q7_QU9pSUG7r",
        "colab_type": "text"
      },
      "source": [
        "#Import Keras"
      ]
    },
    {
      "cell_type": "markdown",
      "metadata": {
        "id": "VvNVMNmjUivl",
        "colab_type": "text"
      },
      "source": [
        "Recall from the videos that Keras normally runs on top of a low-level library such as TensorFlow. This means that to be able to use the Keras library, you will have to install TensorFlow first and when you import the Keras library, it will be explicitly displayed what backend was used to install the Keras library. In CC Labs, we used TensorFlow as the backend to install Keras, so it should clearly print that when we import Keras."
      ]
    },
    {
      "cell_type": "code",
      "metadata": {
        "id": "oVmgJ4meTvow",
        "colab_type": "code",
        "colab": {
          "base_uri": "https://localhost:8080/",
          "height": 34
        },
        "outputId": "5978b03b-9b7a-4cc4-c0ee-528a2dc946ac"
      },
      "source": [
        "import keras"
      ],
      "execution_count": 16,
      "outputs": [
        {
          "output_type": "stream",
          "text": [
            "Using TensorFlow backend.\n"
          ],
          "name": "stderr"
        }
      ]
    },
    {
      "cell_type": "code",
      "metadata": {
        "id": "0fPDToGZUtrB",
        "colab_type": "code",
        "colab": {}
      },
      "source": [
        "from keras.models import Sequential\n",
        "from keras.layers import Dense"
      ],
      "execution_count": 0,
      "outputs": []
    },
    {
      "cell_type": "markdown",
      "metadata": {
        "id": "ckLgwBxpWo1E",
        "colab_type": "text"
      },
      "source": [
        "## Build a Neural Network\n",
        "Let's define a function that defines our regression model for us so that we can conveniently call it to create our model."
      ]
    },
    {
      "cell_type": "code",
      "metadata": {
        "id": "IVGeGg35V1TP",
        "colab_type": "code",
        "colab": {}
      },
      "source": [
        "#def regression model\n",
        "def regression_model():\n",
        "  #create model\n",
        "  model = Sequential()\n",
        "  model.add(Dense(50, activation = 'relu', input_shape=(n_cols,)))\n",
        "  model.add(Dense(50, activation = 'relu'))\n",
        "  model.add(Dense(1))\n",
        "  \n",
        "  #compile model\n",
        "  model.compile(optimizer='adam', loss = 'mean_squared_error')\n",
        "  return model"
      ],
      "execution_count": 0,
      "outputs": []
    },
    {
      "cell_type": "markdown",
      "metadata": {
        "id": "eJZ7oP8bZ8uK",
        "colab_type": "text"
      },
      "source": [
        "The above function create a model that has two hidden layers, each of 50 hidden units."
      ]
    },
    {
      "cell_type": "markdown",
      "metadata": {
        "id": "-6eIozBWaC4K",
        "colab_type": "text"
      },
      "source": [
        "## Train and Test the Network"
      ]
    },
    {
      "cell_type": "markdown",
      "metadata": {
        "id": "lfjbXbC3aLHn",
        "colab_type": "text"
      },
      "source": [
        "Let's call the function now to create our model."
      ]
    },
    {
      "cell_type": "code",
      "metadata": {
        "id": "QQt5zb8YZ4fv",
        "colab_type": "code",
        "colab": {}
      },
      "source": [
        "#build the model\n",
        "model = regression_model()"
      ],
      "execution_count": 0,
      "outputs": []
    },
    {
      "cell_type": "markdown",
      "metadata": {
        "id": "d7rZnKcCa3Qd",
        "colab_type": "text"
      },
      "source": [
        "Next, we will train and test the model at the same time using the *fit* method. We will leave out 30% of the data for validation and we will train the model for 100 epochs."
      ]
    },
    {
      "cell_type": "code",
      "metadata": {
        "id": "v9n__xvuaZFg",
        "colab_type": "code",
        "colab": {
          "base_uri": "https://localhost:8080/",
          "height": 1000
        },
        "outputId": "e993145b-8ff1-4eff-a3ec-956d0d381134"
      },
      "source": [
        "#fit the model\n",
        "model.fit(predictors_norm,target, validation_split=0.3,epochs=100,verbose=2)"
      ],
      "execution_count": 21,
      "outputs": [
        {
          "output_type": "stream",
          "text": [
            "Train on 721 samples, validate on 309 samples\n",
            "Epoch 1/100\n",
            " - 0s - loss: 1619.5568 - val_loss: 1105.3520\n",
            "Epoch 2/100\n",
            " - 0s - loss: 1480.0734 - val_loss: 964.7648\n",
            "Epoch 3/100\n",
            " - 0s - loss: 1246.1773 - val_loss: 757.8646\n",
            "Epoch 4/100\n",
            " - 0s - loss: 908.9902 - val_loss: 507.4155\n",
            "Epoch 5/100\n",
            " - 0s - loss: 540.6459 - val_loss: 293.4986\n",
            "Epoch 6/100\n",
            " - 0s - loss: 302.0012 - val_loss: 200.4964\n",
            "Epoch 7/100\n",
            " - 0s - loss: 232.0977 - val_loss: 181.0801\n",
            "Epoch 8/100\n",
            " - 0s - loss: 216.2727 - val_loss: 175.5867\n",
            "Epoch 9/100\n",
            " - 0s - loss: 205.3116 - val_loss: 172.9541\n",
            "Epoch 10/100\n",
            " - 0s - loss: 197.2587 - val_loss: 174.9807\n",
            "Epoch 11/100\n",
            " - 0s - loss: 190.2597 - val_loss: 170.5384\n",
            "Epoch 12/100\n",
            " - 0s - loss: 184.2149 - val_loss: 167.3372\n",
            "Epoch 13/100\n",
            " - 0s - loss: 179.5322 - val_loss: 170.7634\n",
            "Epoch 14/100\n",
            " - 0s - loss: 174.8418 - val_loss: 169.7562\n",
            "Epoch 15/100\n",
            " - 0s - loss: 170.9602 - val_loss: 165.4903\n",
            "Epoch 16/100\n",
            " - 0s - loss: 167.4258 - val_loss: 169.7839\n",
            "Epoch 17/100\n",
            " - 0s - loss: 164.2483 - val_loss: 166.7394\n",
            "Epoch 18/100\n",
            " - 0s - loss: 160.4406 - val_loss: 167.7165\n",
            "Epoch 19/100\n",
            " - 0s - loss: 157.8350 - val_loss: 167.8621\n",
            "Epoch 20/100\n",
            " - 0s - loss: 155.4537 - val_loss: 167.4362\n",
            "Epoch 21/100\n",
            " - 0s - loss: 152.8382 - val_loss: 167.8078\n",
            "Epoch 22/100\n",
            " - 0s - loss: 150.6745 - val_loss: 169.4993\n",
            "Epoch 23/100\n",
            " - 0s - loss: 148.4812 - val_loss: 169.1066\n",
            "Epoch 24/100\n",
            " - 0s - loss: 146.7836 - val_loss: 169.7537\n",
            "Epoch 25/100\n",
            " - 0s - loss: 144.5592 - val_loss: 170.1620\n",
            "Epoch 26/100\n",
            " - 0s - loss: 143.3791 - val_loss: 169.1572\n",
            "Epoch 27/100\n",
            " - 0s - loss: 140.6016 - val_loss: 169.7301\n",
            "Epoch 28/100\n",
            " - 0s - loss: 139.5913 - val_loss: 169.7050\n",
            "Epoch 29/100\n",
            " - 0s - loss: 137.3097 - val_loss: 170.8360\n",
            "Epoch 30/100\n",
            " - 0s - loss: 135.8518 - val_loss: 172.2057\n",
            "Epoch 31/100\n",
            " - 0s - loss: 133.7028 - val_loss: 169.1347\n",
            "Epoch 32/100\n",
            " - 0s - loss: 131.0339 - val_loss: 168.3574\n",
            "Epoch 33/100\n",
            " - 0s - loss: 128.8495 - val_loss: 170.4404\n",
            "Epoch 34/100\n",
            " - 0s - loss: 126.4944 - val_loss: 166.6676\n",
            "Epoch 35/100\n",
            " - 0s - loss: 123.4368 - val_loss: 166.3659\n",
            "Epoch 36/100\n",
            " - 0s - loss: 120.6655 - val_loss: 163.9478\n",
            "Epoch 37/100\n",
            " - 0s - loss: 117.7324 - val_loss: 164.8455\n",
            "Epoch 38/100\n",
            " - 0s - loss: 114.5679 - val_loss: 162.2052\n",
            "Epoch 39/100\n",
            " - 0s - loss: 111.1041 - val_loss: 160.3262\n",
            "Epoch 40/100\n",
            " - 0s - loss: 107.7996 - val_loss: 162.4730\n",
            "Epoch 41/100\n",
            " - 0s - loss: 104.7486 - val_loss: 155.9572\n",
            "Epoch 42/100\n",
            " - 0s - loss: 100.2820 - val_loss: 157.1522\n",
            "Epoch 43/100\n",
            " - 0s - loss: 96.5967 - val_loss: 157.0305\n",
            "Epoch 44/100\n",
            " - 0s - loss: 92.9323 - val_loss: 157.0296\n",
            "Epoch 45/100\n",
            " - 0s - loss: 89.1937 - val_loss: 150.9229\n",
            "Epoch 46/100\n",
            " - 0s - loss: 85.6445 - val_loss: 154.3232\n",
            "Epoch 47/100\n",
            " - 0s - loss: 81.2295 - val_loss: 150.6514\n",
            "Epoch 48/100\n",
            " - 0s - loss: 77.6784 - val_loss: 153.4188\n",
            "Epoch 49/100\n",
            " - 0s - loss: 74.1735 - val_loss: 146.9117\n",
            "Epoch 50/100\n",
            " - 0s - loss: 70.7562 - val_loss: 146.4685\n",
            "Epoch 51/100\n",
            " - 0s - loss: 68.2057 - val_loss: 149.3370\n",
            "Epoch 52/100\n",
            " - 0s - loss: 65.6321 - val_loss: 145.4949\n",
            "Epoch 53/100\n",
            " - 0s - loss: 62.7561 - val_loss: 149.7568\n",
            "Epoch 54/100\n",
            " - 0s - loss: 60.9248 - val_loss: 153.4761\n",
            "Epoch 55/100\n",
            " - 0s - loss: 57.9660 - val_loss: 148.8186\n",
            "Epoch 56/100\n",
            " - 0s - loss: 56.6119 - val_loss: 140.9902\n",
            "Epoch 57/100\n",
            " - 0s - loss: 54.8042 - val_loss: 158.6712\n",
            "Epoch 58/100\n",
            " - 0s - loss: 53.0348 - val_loss: 159.9348\n",
            "Epoch 59/100\n",
            " - 0s - loss: 51.4320 - val_loss: 151.0988\n",
            "Epoch 60/100\n",
            " - 0s - loss: 50.1732 - val_loss: 149.7448\n",
            "Epoch 61/100\n",
            " - 0s - loss: 48.0455 - val_loss: 162.2920\n",
            "Epoch 62/100\n",
            " - 0s - loss: 46.6843 - val_loss: 152.4839\n",
            "Epoch 63/100\n",
            " - 0s - loss: 45.8239 - val_loss: 167.5386\n",
            "Epoch 64/100\n",
            " - 0s - loss: 45.9473 - val_loss: 144.5624\n",
            "Epoch 65/100\n",
            " - 0s - loss: 44.3862 - val_loss: 149.1967\n",
            "Epoch 66/100\n",
            " - 0s - loss: 43.6610 - val_loss: 159.9429\n",
            "Epoch 67/100\n",
            " - 0s - loss: 42.4825 - val_loss: 154.1472\n",
            "Epoch 68/100\n",
            " - 0s - loss: 40.2980 - val_loss: 152.5223\n",
            "Epoch 69/100\n",
            " - 0s - loss: 39.8857 - val_loss: 150.1326\n",
            "Epoch 70/100\n",
            " - 0s - loss: 39.1810 - val_loss: 154.0413\n",
            "Epoch 71/100\n",
            " - 0s - loss: 38.4357 - val_loss: 151.8810\n",
            "Epoch 72/100\n",
            " - 0s - loss: 37.6904 - val_loss: 142.9858\n",
            "Epoch 73/100\n",
            " - 0s - loss: 37.0449 - val_loss: 153.4207\n",
            "Epoch 74/100\n",
            " - 0s - loss: 36.8120 - val_loss: 156.4042\n",
            "Epoch 75/100\n",
            " - 0s - loss: 36.2352 - val_loss: 158.5570\n",
            "Epoch 76/100\n",
            " - 0s - loss: 36.5506 - val_loss: 137.0040\n",
            "Epoch 77/100\n",
            " - 0s - loss: 35.0836 - val_loss: 155.0584\n",
            "Epoch 78/100\n",
            " - 0s - loss: 35.2896 - val_loss: 149.0512\n",
            "Epoch 79/100\n",
            " - 0s - loss: 35.2212 - val_loss: 151.4110\n",
            "Epoch 80/100\n",
            " - 0s - loss: 34.5299 - val_loss: 140.2883\n",
            "Epoch 81/100\n",
            " - 0s - loss: 33.4764 - val_loss: 145.7770\n",
            "Epoch 82/100\n",
            " - 0s - loss: 33.2608 - val_loss: 139.1067\n",
            "Epoch 83/100\n",
            " - 0s - loss: 33.0748 - val_loss: 142.8062\n",
            "Epoch 84/100\n",
            " - 0s - loss: 32.8715 - val_loss: 152.2188\n",
            "Epoch 85/100\n",
            " - 0s - loss: 32.3053 - val_loss: 151.0485\n",
            "Epoch 86/100\n",
            " - 0s - loss: 31.7976 - val_loss: 132.1630\n",
            "Epoch 87/100\n",
            " - 0s - loss: 31.8146 - val_loss: 142.9200\n",
            "Epoch 88/100\n",
            " - 0s - loss: 31.8032 - val_loss: 135.6145\n",
            "Epoch 89/100\n",
            " - 0s - loss: 30.6453 - val_loss: 139.5271\n",
            "Epoch 90/100\n",
            " - 0s - loss: 31.3272 - val_loss: 136.9157\n",
            "Epoch 91/100\n",
            " - 0s - loss: 30.5739 - val_loss: 123.8633\n",
            "Epoch 92/100\n",
            " - 0s - loss: 30.9481 - val_loss: 132.7113\n",
            "Epoch 93/100\n",
            " - 0s - loss: 30.1036 - val_loss: 138.0329\n",
            "Epoch 94/100\n",
            " - 0s - loss: 29.5052 - val_loss: 138.2520\n",
            "Epoch 95/100\n",
            " - 0s - loss: 29.8721 - val_loss: 150.1254\n",
            "Epoch 96/100\n",
            " - 0s - loss: 29.3975 - val_loss: 147.1555\n",
            "Epoch 97/100\n",
            " - 0s - loss: 29.1105 - val_loss: 138.8911\n",
            "Epoch 98/100\n",
            " - 0s - loss: 28.8692 - val_loss: 140.3941\n",
            "Epoch 99/100\n",
            " - 0s - loss: 28.4615 - val_loss: 133.3547\n",
            "Epoch 100/100\n",
            " - 0s - loss: 28.3536 - val_loss: 137.4916\n"
          ],
          "name": "stdout"
        },
        {
          "output_type": "execute_result",
          "data": {
            "text/plain": [
              "<keras.callbacks.callbacks.History at 0x7f62669d4630>"
            ]
          },
          "metadata": {
            "tags": []
          },
          "execution_count": 21
        }
      ]
    },
    {
      "cell_type": "markdown",
      "metadata": {
        "id": "7G-4Ix2jbluJ",
        "colab_type": "text"
      },
      "source": [
        "Feel free to vary the following and note what impact each change has on the model's performance:\n",
        "\n",
        "1. Increase or decreate number of neurons in hidden layers\n",
        "2. Add more hidden layers\n",
        "3. Increase number of epochs"
      ]
    },
    {
      "cell_type": "code",
      "metadata": {
        "id": "6S9YxAEGbbTn",
        "colab_type": "code",
        "colab": {}
      },
      "source": [
        ""
      ],
      "execution_count": 0,
      "outputs": []
    }
  ]
}